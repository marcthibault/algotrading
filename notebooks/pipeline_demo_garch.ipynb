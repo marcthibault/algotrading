{
 "cells": [
  {
   "cell_type": "code",
   "execution_count": 1,
   "metadata": {},
   "outputs": [],
   "source": [
    "# %%\n",
    "%load_ext autoreload\n",
    "%autoreload 2"
   ]
  },
  {
   "cell_type": "code",
   "execution_count": 4,
   "metadata": {},
   "outputs": [],
   "source": [
    "# %% imports\n",
    "import pandas as pd\n",
    "import numpy as np\n",
    "from scripts.signals import Signal, MeanReversion, CrossSectionCorrelation\n",
    "from scripts.filters import VolumeFilter, FixedVolumeFilter\n",
    "import matplotlib.pyplot as plt\n",
    "%matplotlib inline"
   ]
  },
  {
   "cell_type": "code",
   "execution_count": 57,
   "metadata": {},
   "outputs": [],
   "source": [
    "# %% loading data\n",
    "raw_data = pd.read_csv('../data/data_f2009.csv', parse_dates=['date']).set_index(['date', 'ticker'])\n",
    "data = raw_data.sort_index()"
   ]
  },
  {
   "cell_type": "code",
   "execution_count": 441,
   "metadata": {},
   "outputs": [],
   "source": [
    "datasample = data.loc[:\"2013-12-17\"]"
   ]
  },
  {
   "cell_type": "code",
   "execution_count": 442,
   "metadata": {},
   "outputs": [
    {
     "data": {
      "text/html": [
       "<div>\n",
       "<style scoped>\n",
       "    .dataframe tbody tr th:only-of-type {\n",
       "        vertical-align: middle;\n",
       "    }\n",
       "\n",
       "    .dataframe tbody tr th {\n",
       "        vertical-align: top;\n",
       "    }\n",
       "\n",
       "    .dataframe thead th {\n",
       "        text-align: right;\n",
       "    }\n",
       "</style>\n",
       "<table border=\"1\" class=\"dataframe\">\n",
       "  <thead>\n",
       "    <tr style=\"text-align: right;\">\n",
       "      <th></th>\n",
       "      <th></th>\n",
       "      <th>adj_volume</th>\n",
       "      <th>adj_close</th>\n",
       "      <th>future_perf_1d</th>\n",
       "      <th>past_perf_1d</th>\n",
       "    </tr>\n",
       "    <tr>\n",
       "      <th>date</th>\n",
       "      <th>ticker</th>\n",
       "      <th></th>\n",
       "      <th></th>\n",
       "      <th></th>\n",
       "      <th></th>\n",
       "    </tr>\n",
       "  </thead>\n",
       "  <tbody>\n",
       "    <tr>\n",
       "      <th rowspan=\"5\" valign=\"top\">2009-01-05</th>\n",
       "      <th>A</th>\n",
       "      <td>5129700.000</td>\n",
       "      <td>11.454821</td>\n",
       "      <td>0.079809</td>\n",
       "      <td>0.033867</td>\n",
       "    </tr>\n",
       "    <tr>\n",
       "      <th>AAL</th>\n",
       "      <td>3457100.145</td>\n",
       "      <td>21.644190</td>\n",
       "      <td>0.087635</td>\n",
       "      <td>-0.007151</td>\n",
       "    </tr>\n",
       "    <tr>\n",
       "      <th>AAN</th>\n",
       "      <td>2500.500</td>\n",
       "      <td>14.233812</td>\n",
       "      <td>0.050228</td>\n",
       "      <td>0.025761</td>\n",
       "    </tr>\n",
       "    <tr>\n",
       "      <th>AAON</th>\n",
       "      <td>1258399.125</td>\n",
       "      <td>5.626286</td>\n",
       "      <td>-0.001433</td>\n",
       "      <td>0.002395</td>\n",
       "    </tr>\n",
       "    <tr>\n",
       "      <th>AAP</th>\n",
       "      <td>969700.000</td>\n",
       "      <td>32.795583</td>\n",
       "      <td>0.001485</td>\n",
       "      <td>-0.013474</td>\n",
       "    </tr>\n",
       "  </tbody>\n",
       "</table>\n",
       "</div>"
      ],
      "text/plain": [
       "                    adj_volume  adj_close  future_perf_1d  past_perf_1d\n",
       "date       ticker                                                      \n",
       "2009-01-05 A       5129700.000  11.454821        0.079809      0.033867\n",
       "           AAL     3457100.145  21.644190        0.087635     -0.007151\n",
       "           AAN        2500.500  14.233812        0.050228      0.025761\n",
       "           AAON    1258399.125   5.626286       -0.001433      0.002395\n",
       "           AAP      969700.000  32.795583        0.001485     -0.013474"
      ]
     },
     "execution_count": 442,
     "metadata": {},
     "output_type": "execute_result"
    }
   ],
   "source": [
    "datasample.head()"
   ]
  },
  {
   "cell_type": "code",
   "execution_count": null,
   "metadata": {},
   "outputs": [],
   "source": []
  },
  {
   "cell_type": "code",
   "execution_count": 443,
   "metadata": {
    "scrolled": true
   },
   "outputs": [
    {
     "name": "stderr",
     "output_type": "stream",
     "text": [
      "/Users/marc/.miniconda3/lib/python3.6/site-packages/ipykernel/__main__.py:2: SettingWithCopyWarning: \n",
      "A value is trying to be set on a copy of a slice from a DataFrame\n",
      "\n",
      "See the caveats in the documentation: http://pandas.pydata.org/pandas-docs/stable/indexing.html#indexing-view-versus-copy\n",
      "  from ipykernel import kernelapp as app\n"
     ]
    }
   ],
   "source": [
    "# Because WAG is now WBA\n",
    "datasample.drop(\"WAG\", axis=0, level=1, inplace=True)"
   ]
  },
  {
   "cell_type": "code",
   "execution_count": 444,
   "metadata": {
    "scrolled": false
   },
   "outputs": [
    {
     "name": "stderr",
     "output_type": "stream",
     "text": [
      "/Users/marc/.miniconda3/lib/python3.6/site-packages/pandas/core/indexing.py:194: SettingWithCopyWarning: \n",
      "A value is trying to be set on a copy of a slice from a DataFrame\n",
      "\n",
      "See the caveats in the documentation: http://pandas.pydata.org/pandas-docs/stable/indexing.html#indexing-view-versus-copy\n",
      "  self._setitem_with_indexer(indexer, value)\n",
      "/Users/marc/.miniconda3/lib/python3.6/site-packages/ipykernel/__main__.py:3: SettingWithCopyWarning: \n",
      "A value is trying to be set on a copy of a slice from a DataFrame.\n",
      "Try using .loc[row_indexer,col_indexer] = value instead\n",
      "\n",
      "See the caveats in the documentation: http://pandas.pydata.org/pandas-docs/stable/indexing.html#indexing-view-versus-copy\n",
      "  app.launch_new_instance()\n"
     ]
    }
   ],
   "source": [
    "# %% filter data\n",
    "nb_stocks = 500\n",
    "datasample['filter'] = FixedVolumeFilter(datasample, nb_stocks, \"2009-01-05\").get_filter()"
   ]
  },
  {
   "cell_type": "code",
   "execution_count": null,
   "metadata": {},
   "outputs": [],
   "source": []
  },
  {
   "cell_type": "code",
   "execution_count": 445,
   "metadata": {},
   "outputs": [],
   "source": [
    "kept_tickers = sorted(datasample[\"filter\"].loc(axis=0)[datasample[\"filter\"] == 1].index.get_level_values(1).unique())"
   ]
  },
  {
   "cell_type": "code",
   "execution_count": null,
   "metadata": {},
   "outputs": [],
   "source": [
    "# TODO invert matrices once/refit. "
   ]
  },
  {
   "cell_type": "code",
   "execution_count": 446,
   "metadata": {
    "scrolled": false
   },
   "outputs": [
    {
     "data": {
      "application/vnd.jupyter.widget-view+json": {
       "model_id": "63344eb967474b0989cf1302ae70418d",
       "version_major": 2,
       "version_minor": 0
      },
      "text/plain": [
       "HBox(children=(IntProgress(value=0, max=1045), HTML(value='')))"
      ]
     },
     "metadata": {},
     "output_type": "display_data"
    },
    {
     "name": "stdout",
     "output_type": "stream",
     "text": [
      "2009-10-23 00:00:00\n",
      "Starting new series fit.\n",
      "Warning: GARCH Convergence issue: alpha + beta = 1 - 0.008644604450765203. Switching to simple mode.\n",
      "Warning: GARCH Convergence issue: alpha + beta = 1 - 0.0. Switching to simple mode.\n",
      "Warning: GARCH Convergence issue: alpha + beta = 1 - -2.148448197125674e-08. Switching to simple mode.\n",
      "Warning: GARCH Convergence issue: alpha + beta = 1 - -3.85313470019355e-09. Switching to simple mode.\n",
      "Warning: GARCH Convergence issue: alpha + beta = 1 - 0.003993538046164091. Switching to simple mode.\n",
      "Warning: GARCH Convergence issue: alpha + beta = 1 - 0.007143870807972075. Switching to simple mode.\n",
      "Warning: GARCH Convergence issue: alpha + beta = 1 - 0.003170124338669922. Switching to simple mode.\n",
      "Warning: GARCH Convergence issue: alpha + beta = 1 - 0.007599848923204866. Switching to simple mode.\n",
      "Warning: GARCH Convergence issue: alpha + beta = 1 - 0.011966667187992996. Switching to simple mode.\n",
      "Warning: GARCH Convergence issue: alpha + beta = 1 - 0.006820370352880523. Switching to simple mode.\n",
      "Warning: GARCH Convergence issue: alpha + beta = 1 - 9.43689570931383e-15. Switching to simple mode.\n",
      "Warning: GARCH Convergence issue: alpha + beta = 1 - 0.003390076242081874. Switching to simple mode.\n",
      "Warning: GARCH Convergence issue: alpha + beta = 1 - 0.01127669672136511. Switching to simple mode.\n",
      "Minimum eigenvalue of R is (-8.425977206177682e-15+0j)\n"
     ]
    },
    {
     "name": "stderr",
     "output_type": "stream",
     "text": [
      "/Users/marc/Documents/Dropbox/Stanford/Class/3rdQuarter/MS&E448/algotrading/scripts/signals/garch.py:128: RuntimeWarning: invalid value encountered in sqrt\n",
      "  sigma1 = np.sqrt(self.initial_sigma[index, 0] - np.dot(rho, np.dot(H_inv, rho.T))[0, 0])\n"
     ]
    },
    {
     "name": "stdout",
     "output_type": "stream",
     "text": [
      "2009-10-26 00:00:00\n",
      "2009-10-27 00:00:00\n",
      "2009-10-28 00:00:00\n",
      "2009-10-29 00:00:00\n",
      "2009-10-30 00:00:00\n",
      "2009-11-02 00:00:00\n"
     ]
    },
    {
     "ename": "KeyboardInterrupt",
     "evalue": "",
     "output_type": "error",
     "traceback": [
      "\u001b[0;31m---------------------------------------------------------------------------\u001b[0m",
      "\u001b[0;31mKeyboardInterrupt\u001b[0m                         Traceback (most recent call last)",
      "\u001b[0;32m<ipython-input-446-3728c60d1eb4>\u001b[0m in \u001b[0;36m<module>\u001b[0;34m()\u001b[0m\n\u001b[1;32m      5\u001b[0m \u001b[0;31m# We need to put lots of n_past days in order for GARCH models to converge.\u001b[0m\u001b[0;34m\u001b[0m\u001b[0;34m\u001b[0m\u001b[0m\n\u001b[1;32m      6\u001b[0m \u001b[0mmr_signal\u001b[0m \u001b[0;34m=\u001b[0m \u001b[0mCrossSectionCorrelation\u001b[0m\u001b[0;34m(\u001b[0m\u001b[0mdatasample\u001b[0m\u001b[0;34m,\u001b[0m \u001b[0mn_past\u001b[0m\u001b[0;34m=\u001b[0m\u001b[0;36m200\u001b[0m\u001b[0;34m,\u001b[0m \u001b[0mn_fit\u001b[0m\u001b[0;34m=\u001b[0m\u001b[0;36m3\u001b[0m\u001b[0;34m,\u001b[0m \u001b[0mrefit\u001b[0m\u001b[0;34m=\u001b[0m\u001b[0;36m30\u001b[0m\u001b[0;34m)\u001b[0m\u001b[0;34m\u001b[0m\u001b[0m\n\u001b[0;32m----> 7\u001b[0;31m \u001b[0mdatasample\u001b[0m\u001b[0;34m[\u001b[0m\u001b[0;34m'signal'\u001b[0m\u001b[0;34m]\u001b[0m \u001b[0;34m=\u001b[0m \u001b[0mmr_signal\u001b[0m\u001b[0;34m.\u001b[0m\u001b[0mget_signal\u001b[0m\u001b[0;34m(\u001b[0m\u001b[0;34m)\u001b[0m\u001b[0;34m\u001b[0m\u001b[0m\n\u001b[0m",
      "\u001b[0;32m~/Documents/Dropbox/Stanford/Class/3rdQuarter/MS&E448/algotrading/scripts/signals/signal.py\u001b[0m in \u001b[0;36mget_signal\u001b[0;34m(self, kwargs)\u001b[0m\n\u001b[1;32m     11\u001b[0m     \u001b[0;32mdef\u001b[0m \u001b[0mget_signal\u001b[0m\u001b[0;34m(\u001b[0m\u001b[0mself\u001b[0m\u001b[0;34m,\u001b[0m \u001b[0mkwargs\u001b[0m\u001b[0;34m=\u001b[0m\u001b[0;34m{\u001b[0m\u001b[0;34m}\u001b[0m\u001b[0;34m)\u001b[0m\u001b[0;34m:\u001b[0m\u001b[0;34m\u001b[0m\u001b[0m\n\u001b[1;32m     12\u001b[0m         \u001b[0;32mif\u001b[0m \u001b[0;34m~\u001b[0m\u001b[0mself\u001b[0m\u001b[0;34m.\u001b[0m\u001b[0m_computed\u001b[0m\u001b[0;34m:\u001b[0m\u001b[0;34m\u001b[0m\u001b[0m\n\u001b[0;32m---> 13\u001b[0;31m             \u001b[0mself\u001b[0m\u001b[0;34m.\u001b[0m\u001b[0m_compute\u001b[0m\u001b[0;34m(\u001b[0m\u001b[0;34m**\u001b[0m\u001b[0mkwargs\u001b[0m\u001b[0;34m)\u001b[0m\u001b[0;34m\u001b[0m\u001b[0m\n\u001b[0m\u001b[1;32m     14\u001b[0m             \u001b[0mself\u001b[0m\u001b[0;34m.\u001b[0m\u001b[0m_computed\u001b[0m \u001b[0;34m=\u001b[0m \u001b[0;32mTrue\u001b[0m\u001b[0;34m\u001b[0m\u001b[0m\n\u001b[1;32m     15\u001b[0m             \u001b[0mself\u001b[0m\u001b[0;34m.\u001b[0m\u001b[0msignal\u001b[0m \u001b[0;34m=\u001b[0m \u001b[0mself\u001b[0m\u001b[0;34m.\u001b[0m\u001b[0msignal\u001b[0m\u001b[0;34m.\u001b[0m\u001b[0mrename\u001b[0m\u001b[0;34m(\u001b[0m\u001b[0;34m'signal'\u001b[0m\u001b[0;34m)\u001b[0m\u001b[0;34m\u001b[0m\u001b[0m\n",
      "\u001b[0;32m~/Documents/Dropbox/Stanford/Class/3rdQuarter/MS&E448/algotrading/scripts/signals/garch.py\u001b[0m in \u001b[0;36m_compute\u001b[0;34m(self, start_date, end_date)\u001b[0m\n",
      "\u001b[0;32m~/Documents/Dropbox/Stanford/Class/3rdQuarter/MS&E448/algotrading/scripts/signals/garch.py\u001b[0m in \u001b[0;36mcomputeOneSignal\u001b[0;34m(self, r_future)\u001b[0m\n",
      "\u001b[0;32m~/Documents/Dropbox/Stanford/Class/3rdQuarter/MS&E448/algotrading/scripts/signals/garch.py\u001b[0m in \u001b[0;36m_computeProbabilityDistributionGaussian\u001b[0;34m(self, index, r_future)\u001b[0m\n",
      "\u001b[0;32m~/.miniconda3/lib/python3.6/site-packages/numpy/linalg/linalg.py\u001b[0m in \u001b[0;36minv\u001b[0;34m(a)\u001b[0m\n\u001b[1;32m    526\u001b[0m     \u001b[0msignature\u001b[0m \u001b[0;34m=\u001b[0m \u001b[0;34m'D->D'\u001b[0m \u001b[0;32mif\u001b[0m \u001b[0misComplexType\u001b[0m\u001b[0;34m(\u001b[0m\u001b[0mt\u001b[0m\u001b[0;34m)\u001b[0m \u001b[0;32melse\u001b[0m \u001b[0;34m'd->d'\u001b[0m\u001b[0;34m\u001b[0m\u001b[0m\n\u001b[1;32m    527\u001b[0m     \u001b[0mextobj\u001b[0m \u001b[0;34m=\u001b[0m \u001b[0mget_linalg_error_extobj\u001b[0m\u001b[0;34m(\u001b[0m\u001b[0m_raise_linalgerror_singular\u001b[0m\u001b[0;34m)\u001b[0m\u001b[0;34m\u001b[0m\u001b[0m\n\u001b[0;32m--> 528\u001b[0;31m     \u001b[0mainv\u001b[0m \u001b[0;34m=\u001b[0m \u001b[0m_umath_linalg\u001b[0m\u001b[0;34m.\u001b[0m\u001b[0minv\u001b[0m\u001b[0;34m(\u001b[0m\u001b[0ma\u001b[0m\u001b[0;34m,\u001b[0m \u001b[0msignature\u001b[0m\u001b[0;34m=\u001b[0m\u001b[0msignature\u001b[0m\u001b[0;34m,\u001b[0m \u001b[0mextobj\u001b[0m\u001b[0;34m=\u001b[0m\u001b[0mextobj\u001b[0m\u001b[0;34m)\u001b[0m\u001b[0;34m\u001b[0m\u001b[0m\n\u001b[0m\u001b[1;32m    529\u001b[0m     \u001b[0;32mreturn\u001b[0m \u001b[0mwrap\u001b[0m\u001b[0;34m(\u001b[0m\u001b[0mainv\u001b[0m\u001b[0;34m.\u001b[0m\u001b[0mastype\u001b[0m\u001b[0;34m(\u001b[0m\u001b[0mresult_t\u001b[0m\u001b[0;34m,\u001b[0m \u001b[0mcopy\u001b[0m\u001b[0;34m=\u001b[0m\u001b[0;32mFalse\u001b[0m\u001b[0;34m)\u001b[0m\u001b[0;34m)\u001b[0m\u001b[0;34m\u001b[0m\u001b[0m\n\u001b[1;32m    530\u001b[0m \u001b[0;34m\u001b[0m\u001b[0m\n",
      "\u001b[0;31mKeyboardInterrupt\u001b[0m: "
     ]
    }
   ],
   "source": [
    "# %% create signal \n",
    "# ---- \n",
    "# note that we need more n_past than number of kept stocks if we want\n",
    "# the correlation matric to be non-singular. \n",
    "# We need to put lots of n_past days in order for GARCH models to converge. \n",
    "mr_signal = CrossSectionCorrelation(datasample, n_past=200, n_fit=3, refit=30)\n",
    "datasample['signal'] = mr_signal.get_signal()"
   ]
  },
  {
   "cell_type": "code",
   "execution_count": null,
   "metadata": {},
   "outputs": [],
   "source": []
  },
  {
   "cell_type": "code",
   "execution_count": null,
   "metadata": {},
   "outputs": [],
   "source": []
  },
  {
   "cell_type": "code",
   "execution_count": null,
   "metadata": {
    "scrolled": false
   },
   "outputs": [],
   "source": [
    "datasample.signal[~datasample.signal.isna()].groupby(level=0).apply(lambda x: np.mean((x < 1e-8) | (x > 1 - 1e-8))).plot()"
   ]
  },
  {
   "cell_type": "code",
   "execution_count": null,
   "metadata": {
    "scrolled": true
   },
   "outputs": [],
   "source": [
    "from scipy.stats import norm\n",
    "diffs = datasample.signal[~datasample.signal.isna()]\n",
    "diffs[diffs == 0] = .5\n",
    "diffs[diffs == 1] = .5\n",
    "plt.hist(norm.ppf(diffs), bins=100)\n",
    "plt.yscale(\"log\")\n",
    "plt.show()"
   ]
  },
  {
   "cell_type": "code",
   "execution_count": null,
   "metadata": {},
   "outputs": [],
   "source": [
    "# %% compute perfs\n",
    "data_perf = datasample.loc[datasample['filter'] == 1].dropna(subset=['signal'])\n",
    "data_perf['position'] = data_perf.signal.groupby(level=0).apply(lambda x: x - np.mean(x))\n",
    "data_perf['perf'] = data_perf.position * data_perf.future_perf_1d\n",
    "data_perf['to'] = data_perf.position.groupby(level=1).diff().fillna(0).abs()\n",
    "data_perf['not'] = data_perf.position.fillna(0).abs()\n",
    "\n",
    "# %% perfs\n",
    "print('Sharpe: ' + \"{0:.3f}\".format(16 * data_perf.perf.groupby(\n",
    "    level=0).sum().mean() / data_perf.perf.groupby(level=0).sum().std()))\n",
    "print('rbt: ' + \"{0:.3f}\".format(100 * data_perf.perf.groupby(\n",
    "    level=0).sum().sum() / data_perf.to.groupby(level=0).sum().sum()) + \"%\")\n",
    "print('holding: ' + \"{0:.2f}\".format(2 * data_perf['not'].groupby(\n",
    "    level=0).sum().sum() / data_perf.to.groupby(level=0).sum().sum()))\n",
    "data_perf.perf.groupby('date').sum().cumsum().plot(figsize=(12, 7))\n",
    "\n",
    "# data_computed.loc(axis=0)[:, 'HHS'].reset_index(level=1, drop=True).close.plot(figsize=(16, 7))"
   ]
  },
  {
   "cell_type": "code",
   "execution_count": null,
   "metadata": {},
   "outputs": [],
   "source": []
  },
  {
   "cell_type": "code",
   "execution_count": null,
   "metadata": {},
   "outputs": [],
   "source": []
  },
  {
   "cell_type": "code",
   "execution_count": null,
   "metadata": {},
   "outputs": [],
   "source": []
  }
 ],
 "metadata": {
  "kernelspec": {
   "display_name": "Python [conda env:.miniconda3]",
   "language": "python",
   "name": "conda-env-.miniconda3-py"
  },
  "language_info": {
   "codemirror_mode": {
    "name": "ipython",
    "version": 3
   },
   "file_extension": ".py",
   "mimetype": "text/x-python",
   "name": "python",
   "nbconvert_exporter": "python",
   "pygments_lexer": "ipython3",
   "version": "3.6.5"
  }
 },
 "nbformat": 4,
 "nbformat_minor": 2
}
